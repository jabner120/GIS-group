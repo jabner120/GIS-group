{
 "cells": [
  {
   "cell_type": "markdown",
   "id": "6d6fce94-eb7a-4671-a54d-706898dd49bc",
   "metadata": {},
   "source": [
    "# Group Assignment #1: Project Proposal\n",
    "## An introduction of your research question\n",
    "We want to examine the correlational or even causal relationships between income/poverty and racial/ethnic make-up of neighborhoods with times on the road and health/life expectancy as it relates to the health impacts of extended time on the road. In other words, what are the correlations between a neighborhood’s AMI (average median income) and racial/ethnic make-up with commute times and health/life expectancy as related to time spent on the road?\n",
    "\n",
    "## An explanation of why it is important to you, why it matters to others, and what is at stake\n",
    "Understanding the relationship between commute times and income levels holds significant importance due to its direct impact on public health and the implications of underlying structural inequalities in urban transportation planning. Research has demonstrated that long commute times are associated with adverse health outcomes, highlighting a critical area of concern for individuals facing economic disadvantages. This issue not only affects the well-being of these individuals but also underscores the broader implications of transportation planning on societal health and equity. By addressing this correlation, we aim to shed light on the systemic issues at play and advocate for solutions that ensure equitable access to healthy living conditions for all residents, particularly those most vulnerable.\n",
    "\n",
    "\n",
    "## A description of the spatial scope (e.g. Boyle Heights or Hong Kong), and why space and/or time matters for your project\n",
    "Our project will analyze Los Angeles County, where a preliminary phase will focus on the broader scale of the city's neighborhoods. After the preliminary phase, we will focus on the neighborhoods where correlations and analyzed data show broader and highlighted differences. Neighborhoods are a physical city unit which potentially and fairly indicate important differences that unfold when analyzing socio spatial differences. Given that spatial parameter, we want to focus on the latest data of our parameters. \n",
    "\n",
    "## A preliminary but definitive description of data sources (at least two) that you will use\n",
    "1. [Opportunity Insights - Life Expectancy](https://opportunityinsights.org/paper/lifeexpectancy/): Opportunity Insights assesses the linkage between socioeconomic status and health outcomes through analyzing anonymized earnings data with mortality records. Chetty et al. ultimately use Census data to construct an average life expectancy for a metro area by income, and identify other corresponding environmental factors associated with life expectancy and income. \n",
    "2. [LA County - Median Income by Census Tract](https://geohub.lacity.org/datasets/lacounty::median-income-and-ami-census-tract/about): this data source is provided by LA GeoHub and averages the median household income by census tract within Los Angeles County. The dataset also contains an index which classifies census tracts from “Extremely Low Income” to “Above Moderate Income”.\n",
    "3. [Poor Physical Health in L.A. County by Neighborhoods](https://map.myneighborhooddata.org/?pa=70)\n",
    "4. [Geodata (geometry, latitude / longitude, location)](https://usc.data.socrata.com/dataset/Los-Angeles-Neighborhood-Map/r8qd-yxsr)\n",
    "## A scope that explains the intended analysis and resulting visualizations for your project\n",
    "The analysis will show the correlations between income/poverty and race/ethnicity with commute times and, in turn, health outcomes/life expectancy related to time on the road in Los Angeles County. The resulting spatial visualization will show which neighborhoods in L.A. County have lower income/higher poverty rates as well as the racial/ethnic make-up, each of which also have correlation with one another. It will also show which neighborhoods have longer commute times, presumably neighborhoods that are further from the urban center of L.A. City, and the impact of long commute times on health and life expectancy.\n",
    "\n",
    "Through this investigation, we want to provide an analysis on how income levels around the multiple neighborhoods in LA correlate and affect commute times to work.\n",
    "\n",
    "## A concluding paragraph of what insights you expect to gain from your research\n",
    "Our research anticipates uncovering a correlation between income levels and commute times among residents. Specifically, we expect to find that individuals with lower median incomes tend to face longer commutes, whereas those with higher incomes enjoy shorter travel times. This insight could shed light on the broader socio-economic disparities within urban mobility, providing a foundation for targeted interventions and policies aimed at creating more equitable transportation systems.\n"
   ]
  },
  {
   "cell_type": "code",
   "execution_count": null,
   "id": "6f3edb00-78df-4e7e-a383-f3ee56034f2a",
   "metadata": {},
   "outputs": [],
   "source": []
  }
 ],
 "metadata": {
  "kernelspec": {
   "display_name": "Python 3 (ipykernel)",
   "language": "python",
   "name": "python3"
  },
  "language_info": {
   "codemirror_mode": {
    "name": "ipython",
    "version": 3
   },
   "file_extension": ".py",
   "mimetype": "text/x-python",
   "name": "python",
   "nbconvert_exporter": "python",
   "pygments_lexer": "ipython3",
   "version": "3.11.7"
  }
 },
 "nbformat": 4,
 "nbformat_minor": 5
}
