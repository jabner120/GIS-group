{
 "cells": [
  {
   "cell_type": "markdown",
   "id": "6d6fce94-eb7a-4671-a54d-706898dd49bc",
   "metadata": {},
   "source": [
    "# Project Proposal - Updated for Midterm Submission\n",
    "\n",
    "## **Group Members: Jala Abner, Angie Chapman, Young Choi, Jose Portales**\n",
    "\n",
    "## An introduction of your research question\n",
    "Initially, we want to examine the correlational relationships between income and commute times; we then assess the racial/ethnic make-up of neighborhoods as well as the distribution of employment opportunities across the various neighborhoods. In other words, what are the correlations between a neighborhood’s AMI (average median income) and commute times and this correlation’s association with racial/ethnic make-up and employment opportunities as related to time spent on the road?\n",
    "\n",
    "## An explanation of why it is important to you, why it matters to others, and what is at stake\n",
    "Understanding the relationship between commute times and income levels holds significant importance due to its implications of underlying structural inequalities in urban transportation as well as the issue of rising housing costs and mismatch between housing affordability and wages, particularly in the Los Angeles region. By addressing this correlation, we aim to shed light on the systemic issues at play and advocate for solutions that ensure equitable access to affordable housing in addition to reasonable commute times to the workplace for all residents, particularly those that are most vulnerable.\n",
    "\n",
    "## A description of the spatial scope (e.g. Boyle Heights or Hong Kong), and why space and/or time matters for your project\n",
    "Our project will begin our scope with Los Angeles County, after which we will narrow our focus to zoom in on neighborhoods in the City of Los Angeles. We will focus on the neighborhoods where correlations and analyzed data show broader and highlighted differences between income levels and commute time. Neighborhoods are a physical sub-city unit, a level which we believe more clearly and accurately indicate important differences that unfold when analyzing socio-spatial disparities. Given that spatial parameter, we want to focus on the latest available data of our parameters. \n",
    "\n",
    "## A preliminary but definitive description of data sources (at least two) that you will use\n",
    "### [USC Neighborhood Data for Social Change](https://la.myneighborhooddata.org/data/): Neighborhood Data for Social Change (NDSC) provides civic actors the tools they need to advocate for a better quality of life within their communities. We particularly look at income and transportation.\n",
    "#### [Employment & Income: Median Household Income (2022)](https://la.myneighborhooddata.org/data/)\n",
    "#### [Transportation Commute Time (2022)](https://la.myneighborhooddata.org/2021/06/employment-income/)\n",
    "#### [Median Rent Prices (2022)](https://la.myneighborhooddata.org/2021/06/transportation/)\n",
    "### [LA County - Median Income by Census Tract (2020 ACS 5-Year)](https://geohub.lacity.org/datasets/lacounty::median-income-and-ami-census-tract/about): this data source is provided by LA GeoHub and averages the median household income by census tract within Los Angeles County. The dataset also contains an index which classifies census tracts from “Extremely Low Income” to “Above Moderate Income”.\n",
    "\n",
    "## A scope that explains the intended analysis and resulting visualizations for your project\n",
    "The analysis will show the correlations between income with commute times and, in turn, socioeconomic and racial disparities in mismatch between wages and reasonable commute times to the workplace. The resulting spatial visualization will show which neighborhoods in Los Angeles have lower income in relation to the AMI as well as the average commute time for residents, for which we hope to demonstrate correlation with one another. It will also show the racial/ethnic makeup of each neighborhood and the accessibility/proximity to job opportunities. We hypothesize that neighborhoods on the margins of the city (possibly excluding the Western margin of West L.A.) will have lower AMI, higher commute times, relatively higher BIPOC populations, and lower economic/employment opportunities. \n",
    "\n",
    "## A concluding paragraph of what insights you expect to gain from your research\n",
    "Our research anticipates uncovering a correlation between income levels and commute times among residents. Specifically, we expect to find that individuals with lower median incomes tend to face longer commutes, whereas those with higher incomes enjoy shorter travel times as a result of their ability to afford to live closer to their workplaces. We discover that as you move further away from the city center (with the exception of the Westside), income declines and commute times increase. This insight could shed light on the broader socio-economic disparities within urban mobility, providing a foundation for targeted interventions and policies aimed at creating more equitable transportation systems.\n"
   ]
  },
  {
   "cell_type": "code",
   "execution_count": null,
   "id": "6f3edb00-78df-4e7e-a383-f3ee56034f2a",
   "metadata": {},
   "outputs": [],
   "source": []
  }
 ],
 "metadata": {
  "kernelspec": {
   "display_name": "Python 3 (ipykernel)",
   "language": "python",
   "name": "python3"
  },
  "language_info": {
   "codemirror_mode": {
    "name": "ipython",
    "version": 3
   },
   "file_extension": ".py",
   "mimetype": "text/x-python",
   "name": "python",
   "nbconvert_exporter": "python",
   "pygments_lexer": "ipython3",
   "version": "3.11.7"
  }
 },
 "nbformat": 4,
 "nbformat_minor": 5
}
