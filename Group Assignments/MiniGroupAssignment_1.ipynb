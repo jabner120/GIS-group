{
 "cells": [
  {
   "cell_type": "markdown",
   "id": "a9bcd5a9-6841-43d6-9d68-64bf6a0cfdb9",
   "metadata": {},
   "source": [
    "# Mini Group Assignment #1\n",
    "### Group Members: Angie Chapman, Jala Abner, Jose Portales, Young Choi\n",
    "### Group Name: TBD\n",
    "\n",
    "#### Project title and link to proposal: [Income, Commute Time, and Health](https://github.com/jabner120/GIS-group/blob/main/Group%20Assignments/proposal-draft.ipynb)\n",
    "\n",
    "\n",
    "#### Roles: Give each team member a title, and define what role each team member will play, and how each person plans to contribute to the project. While this may be subject to change, it is a good idea to define this early in the project to clarify \"who is doing what.\"\n",
    "\n",
    "\n",
    "\n",
    "#### Status update: Report on the general mood of the team, and provide details as to what is working, and what is not.\n",
    "\n",
    "\n",
    "\n",
    "#### Data update: Provide a short narrative on where you are with the data sources you will incorporate in your project. Provide links as necessary.\n",
    "\n",
    "\n",
    "\n",
    "#### Concerns: There should be a lot to be concerned about at this phase of the project. List those concerns and classify them as \"Major concerns\" and/or \"Minor concerns.\"\n"
   ]
  },
  {
   "cell_type": "code",
   "execution_count": null,
   "id": "b3504aa8-82e7-4c5e-82aa-ec21d3664fff",
   "metadata": {},
   "outputs": [],
   "source": []
  }
 ],
 "metadata": {
  "kernelspec": {
   "display_name": "Python 3 (ipykernel)",
   "language": "python",
   "name": "python3"
  },
  "language_info": {
   "codemirror_mode": {
    "name": "ipython",
    "version": 3
   },
   "file_extension": ".py",
   "mimetype": "text/x-python",
   "name": "python",
   "nbconvert_exporter": "python",
   "pygments_lexer": "ipython3",
   "version": "3.11.7"
  }
 },
 "nbformat": 4,
 "nbformat_minor": 5
}
