{
 "cells": [
  {
   "cell_type": "markdown",
   "id": "a9bcd5a9-6841-43d6-9d68-64bf6a0cfdb9",
   "metadata": {},
   "source": [
    "# Mini Group Assignment #1\n",
    "### Group Members: Angie Chapman, Jala Abner, Jose Portales, Young Choi\n",
    "### Group Name: GridLock Gurus\n",
    "\n",
    "### Project title and link to proposal: [Income and Commute Time](https://github.com/jabner120/GIS-group/blob/main/Group%20Assignments/proposal-draft.ipynb)\n",
    "\n",
    "\n",
    "### Roles: Give each team member a title, and define what role each team member will play, and how each person plans to contribute to the project. While this may be subject to change, it is a good idea to define this early in the project to clarify \"who is doing what.\"\n",
    "\n",
    "#### Angie - Housing Affordability Member:\n",
    "1. Will use the Housing Affordability Index data to look at housing affordability in different neighborhoods\n",
    "\n",
    "#### Jala - Median Income Member:\n",
    "1. Responsible for pushing group assignments to repository.\n",
    "2. Analyzing the Los Angeles County Average Median Income data in tandem with demographic data (race, ethnicity, and educational attainment) - at the census tract level.\n",
    "\n",
    "#### Jose - Commute Time Member:\n",
    "1. Analyze the relationship between the higher/lower income neighborhoods and the commute times they have towards their work. Try to find where their jobs are located. \n",
    "\n",
    "#### Young - Ghost Town Guru/Daytime Population Member :\n",
    "1. Analyzing the “daytime population” or the “Commuter-Adjusted Population” to examine another aspect of the correlation between income, housing affordability, and commute time, considering people may have moved to certain neighborhoods, at the cost of higher commute times, as a result of not being able to afford to live in neighborhoods close to their work.\n",
    "\n",
    "\n",
    "### Status update: Report on the general mood of the team, and provide details as to what is working, and what is not.\n",
    "1. Focused research question: What is the correlation between commute time, income level, and housing affordability in the top 5 highest AMI and bottom 5 lowest AMI neighborhoods in the city of Los Angeles?\n",
    "Narrowing the spacial scope: analyzing LA city instead of county \n",
    "2. Will dive into the top highest earning neighborhoods and compare with lowest earning neighborhoods\n",
    "\n",
    "### Data update: Provide a short narrative on where you are with the data sources you will incorporate in your project. Provide links as necessary.\n",
    "[Housing Affordability Index](https://geohub.lacity.org/datasets/lahub::housing-affordability-index-city-of-los-angeles/explore)\n",
    "\n",
    "\n",
    "### Concerns: There should be a lot to be concerned about at this phase of the project. List those concerns and classify them as \"Major concerns\" and/or \"Minor concerns.\"\n",
    "1. Major Concerns:\n",
    "We may be looking at too many different variables (health, race, income, commute time), and so it may be beneficial to focus our analysis per Chris’s suggestion.\n",
    "2. Non-major Concerns:\n",
    "We should have an explanation for why we’re looking at the 5 highest/lowest AMI neighborhoods; frame the justification/provide a solid background for why we’re looking at these 2 particular locations for a comparison analysis.\n"
   ]
  },
  {
   "cell_type": "code",
   "execution_count": null,
   "id": "b3504aa8-82e7-4c5e-82aa-ec21d3664fff",
   "metadata": {},
   "outputs": [],
   "source": []
  }
 ],
 "metadata": {
  "kernelspec": {
   "display_name": "Python 3 (ipykernel)",
   "language": "python",
   "name": "python3"
  },
  "language_info": {
   "codemirror_mode": {
    "name": "ipython",
    "version": 3
   },
   "file_extension": ".py",
   "mimetype": "text/x-python",
   "name": "python",
   "nbconvert_exporter": "python",
   "pygments_lexer": "ipython3",
   "version": "3.11.7"
  }
 },
 "nbformat": 4,
 "nbformat_minor": 5
}
