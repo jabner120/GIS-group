{
 "cells": [
  {
   "cell_type": "markdown",
   "id": "6d6fce94-eb7a-4671-a54d-706898dd49bc",
   "metadata": {},
   "source": [
    "# Group Assignment #1: Project Proposal\n",
    "## An introduction of your research question\n",
    "\n",
    "## An explanation of why it is important to you, why it matters to others, and what is at stake\n",
    "\n",
    "## A description of the spatial scope (e.g. Boyle Heights or Hong Kong), and why space and/or time matters for your project\n",
    "\n",
    "## A preliminary but definitive description of data sources (at least two) that you will use\n",
    "1. [Opportunity Insights - Life Expectancy](https://opportunityinsights.org/paper/lifeexpectancy/): Opportunity Insights assesses the linkage between socioeconomic status and health outcomes through analyzing anonymized earnings data with mortality records. Chetty et al. ultimately use Census data to construct an average life expectancy for a metro area by income, and identify other corresponding environmental factors associated with life expectancy and income. \n",
    "2. [LA County - Median Income by Census Tract](https://geohub.lacity.org/datasets/lacounty::median-income-and-ami-census-tract/about): this data source is provided by LA GeoHub and averages the median household income by census tract within Los Angeles County. The dataset also contains an index which classifies census tracts from “Extremely Low Income” to “Above Moderate Income”.\n",
    "3. [Poor Physical Health in L.A. County by Neighborhoods](https://map.myneighborhooddata.org/?pa=70)\n",
    "4. [Geodata (geometry, latitude / longitude, location)](https://usc.data.socrata.com/dataset/Los-Angeles-Neighborhood-Map/r8qd-yxsr)\n",
    "## A scope that explains the intended analysis and resulting visualizations for your project\n",
    "\n",
    "## A concluding paragraph of what insights you expect to gain from your research\n"
   ]
  },
  {
   "cell_type": "code",
   "execution_count": null,
   "id": "6f3edb00-78df-4e7e-a383-f3ee56034f2a",
   "metadata": {},
   "outputs": [],
   "source": []
  }
 ],
 "metadata": {
  "kernelspec": {
   "display_name": "Python 3 (ipykernel)",
   "language": "python",
   "name": "python3"
  },
  "language_info": {
   "codemirror_mode": {
    "name": "ipython",
    "version": 3
   },
   "file_extension": ".py",
   "mimetype": "text/x-python",
   "name": "python",
   "nbconvert_exporter": "python",
   "pygments_lexer": "ipython3",
   "version": "3.11.7"
  }
 },
 "nbformat": 4,
 "nbformat_minor": 5
}
